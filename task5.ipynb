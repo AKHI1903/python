{
 "cells": [
  {
   "cell_type": "markdown",
   "id": "2ad816f4",
   "metadata": {},
   "source": [
    "# Task 5: Data Analysis on CSV Files\n",
    "\n",
    "Python Developer Internship"
   ]
  },
  {
   "cell_type": "code",
   "execution_count": null,
   "id": "0540169d",
   "metadata": {},
   "outputs": [],
   "source": [
    "\n",
    "import pandas as pd\n",
    "import matplotlib.pyplot as plt\n"
   ]
  },
  {
   "cell_type": "code",
   "execution_count": null,
   "id": "9563cabc",
   "metadata": {},
   "outputs": [],
   "source": [
    "\n",
    "# 1. Load CSV\n",
    "df = pd.read_csv(\"sales.csv\")\n",
    "\n",
    "# Preview dataset\n",
    "print(\"First 5 rows:\")\n",
    "print(df.head())\n"
   ]
  },
  {
   "cell_type": "code",
   "execution_count": null,
   "id": "ad2dc6e0",
   "metadata": {},
   "outputs": [],
   "source": [
    "\n",
    "# 2. Basic info\n",
    "print(\"\\nShape of DataFrame:\", df.shape)\n",
    "print(\"\\nColumns:\", df.columns.tolist())\n",
    "print(\"\\nSummary Stats:\")\n",
    "print(df.describe())\n"
   ]
  },
  {
   "cell_type": "code",
   "execution_count": null,
   "id": "ff31e051",
   "metadata": {},
   "outputs": [],
   "source": [
    "\n",
    "# 3. Add Sales Amount column\n",
    "df[\"Sales\"] = df[\"Quantity\"] * df[\"Price\"]\n",
    "df.head()\n"
   ]
  },
  {
   "cell_type": "code",
   "execution_count": null,
   "id": "6ff40919",
   "metadata": {},
   "outputs": [],
   "source": [
    "\n",
    "# 4. Groupby analysis\n",
    "sales_by_region = df.groupby(\"Region\")[\"Sales\"].sum()\n",
    "sales_by_product = df.groupby(\"Product\")[\"Sales\"].sum()\n",
    "\n",
    "print(\"\\nSales by Region:\\n\", sales_by_region)\n",
    "print(\"\\nSales by Product:\\n\", sales_by_product)\n"
   ]
  },
  {
   "cell_type": "code",
   "execution_count": null,
   "id": "d89bca03",
   "metadata": {},
   "outputs": [],
   "source": [
    "\n",
    "# 5. Filtering (example: sales > 5000)\n",
    "high_sales = df[df[\"Sales\"] > 5000]\n",
    "print(\"\\nTransactions with Sales > 5000:\\n\", high_sales)\n"
   ]
  },
  {
   "cell_type": "code",
   "execution_count": null,
   "id": "d4f6877f",
   "metadata": {},
   "outputs": [],
   "source": [
    "\n",
    "# 6. Visualization: Sales by Region\n",
    "plt.figure(figsize=(10,5))\n",
    "sales_by_region.plot(kind=\"bar\", color=\"skyblue\")\n",
    "plt.title(\"Total Sales by Region\")\n",
    "plt.ylabel(\"Sales Amount\")\n",
    "plt.show()\n"
   ]
  },
  {
   "cell_type": "code",
   "execution_count": null,
   "id": "7a32eb57",
   "metadata": {},
   "outputs": [],
   "source": [
    "\n",
    "# Visualization: Sales by Product\n",
    "plt.figure(figsize=(10,5))\n",
    "sales_by_product.plot(kind=\"bar\", color=\"lightgreen\")\n",
    "plt.title(\"Total Sales by Product\")\n",
    "plt.ylabel(\"Sales Amount\")\n",
    "plt.show()\n"
   ]
  },
  {
   "cell_type": "code",
   "execution_count": null,
   "id": "fdd657c1",
   "metadata": {},
   "outputs": [],
   "source": [
    "\n",
    "# 7. NaN Check\n",
    "print(\"\\nMissing values:\\n\", df.isna().sum())\n"
   ]
  }
 ],
 "metadata": {},
 "nbformat": 4,
 "nbformat_minor": 5
}